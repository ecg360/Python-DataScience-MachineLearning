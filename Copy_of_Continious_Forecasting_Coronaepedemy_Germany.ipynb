{
  "nbformat": 4,
  "nbformat_minor": 0,
  "metadata": {
    "kernelspec": {
      "display_name": "Python 3",
      "language": "python",
      "name": "python3"
    },
    "language_info": {
      "codemirror_mode": {
        "name": "ipython",
        "version": 3
      },
      "file_extension": ".py",
      "mimetype": "text/x-python",
      "name": "python",
      "nbconvert_exporter": "python",
      "pygments_lexer": "ipython3",
      "version": "3.7.3"
    },
    "colab": {
      "name": "Copy of Continious_Forecasting_Coronaepedemy_Germany.ipynb",
      "provenance": [],
      "include_colab_link": true
    }
  },
  "cells": [
    {
      "cell_type": "markdown",
      "metadata": {
        "id": "view-in-github",
        "colab_type": "text"
      },
      "source": [
        "<a href=\"https://colab.research.google.com/github/ecg360/Python-DataScience-MachineLearning/blob/master/Copy_of_Continious_Forecasting_Coronaepedemy_Germany.ipynb\" target=\"_parent\"><img src=\"https://colab.research.google.com/assets/colab-badge.svg\" alt=\"Open In Colab\"/></a>"
      ]
    },
    {
      "cell_type": "markdown",
      "metadata": {
        "id": "w1TXQ-M9cTRF",
        "colab_type": "text"
      },
      "source": [
        "#    # Forecast Corona Epedemie Deutschland"
      ]
    },
    {
      "cell_type": "markdown",
      "metadata": {
        "id": "m3RKm194cTRG",
        "colab_type": "text"
      },
      "source": [
        "Dieses Notebook versucht, den epedemischen Verlauf der Coronadurchseuchung für Deutschland im Verlauf der Zeit approxi-\n",
        "mieren. Datengrundlage sind Daten über bestätigte Neuinfektionen in Deutschland je Bundesland aus der Morgenpost."
      ]
    },
    {
      "cell_type": "code",
      "metadata": {
        "id": "ABhk8gUfcTRH",
        "colab_type": "code",
        "colab": {}
      },
      "source": [
        "%matplotlib inline\n",
        "import pandas as pd\n",
        "import numpy as np\n",
        "from fbprophet import Prophet\n",
        "import matplotlib.pyplot as plt\n",
        "import matplotlib.colors as mcolors\n",
        "import statsmodels.api as sm\n",
        "import statsmodels.formula.api as smf\n",
        "import statsmodels.api as sm\n",
        "import math\n",
        "plt.style.use('fivethirtyeight')"
      ],
      "execution_count": 0,
      "outputs": []
    },
    {
      "cell_type": "code",
      "metadata": {
        "id": "F5dvm0A_cTRL",
        "colab_type": "code",
        "outputId": "520c8657-77a9-4b29-a21f-9bb4cc30740c",
        "colab": {}
      },
      "source": [
        "df = pd.read_csv('confirmed_DE_MoPo_FC.csv')\n",
        "#data.head(5)\n",
        "df['logInfections'] = np.log(df.Infected)\n",
        "#data['logInfections'] = 0\n",
        "df['Predicted_I'] = 0.\n",
        "df.head(3)"
      ],
      "execution_count": 0,
      "outputs": [
        {
          "output_type": "execute_result",
          "data": {
            "text/html": [
              "<div>\n",
              "<style scoped>\n",
              "    .dataframe tbody tr th:only-of-type {\n",
              "        vertical-align: middle;\n",
              "    }\n",
              "\n",
              "    .dataframe tbody tr th {\n",
              "        vertical-align: top;\n",
              "    }\n",
              "\n",
              "    .dataframe thead th {\n",
              "        text-align: right;\n",
              "    }\n",
              "</style>\n",
              "<table border=\"1\" class=\"dataframe\">\n",
              "  <thead>\n",
              "    <tr style=\"text-align: right;\">\n",
              "      <th></th>\n",
              "      <th>Time</th>\n",
              "      <th>Infected</th>\n",
              "      <th>Infected_t_1</th>\n",
              "      <th>Recovered</th>\n",
              "      <th>growth_p</th>\n",
              "      <th>Dead</th>\n",
              "      <th>logInfections</th>\n",
              "      <th>Predicted_I</th>\n",
              "    </tr>\n",
              "  </thead>\n",
              "  <tbody>\n",
              "    <tr>\n",
              "      <th>0</th>\n",
              "      <td>1</td>\n",
              "      <td>1.0</td>\n",
              "      <td>NaN</td>\n",
              "      <td>0</td>\n",
              "      <td>NaN</td>\n",
              "      <td>NaN</td>\n",
              "      <td>0.000000</td>\n",
              "      <td>0.0</td>\n",
              "    </tr>\n",
              "    <tr>\n",
              "      <th>1</th>\n",
              "      <td>2</td>\n",
              "      <td>4.0</td>\n",
              "      <td>3.0</td>\n",
              "      <td>0</td>\n",
              "      <td>NaN</td>\n",
              "      <td>NaN</td>\n",
              "      <td>1.386294</td>\n",
              "      <td>0.0</td>\n",
              "    </tr>\n",
              "    <tr>\n",
              "      <th>2</th>\n",
              "      <td>3</td>\n",
              "      <td>4.0</td>\n",
              "      <td>4.0</td>\n",
              "      <td>0</td>\n",
              "      <td>NaN</td>\n",
              "      <td>NaN</td>\n",
              "      <td>1.386294</td>\n",
              "      <td>0.0</td>\n",
              "    </tr>\n",
              "  </tbody>\n",
              "</table>\n",
              "</div>"
            ],
            "text/plain": [
              "   Time  Infected  Infected_t_1  Recovered  growth_p  Dead  logInfections  \\\n",
              "0     1       1.0           NaN          0       NaN   NaN       0.000000   \n",
              "1     2       4.0           3.0          0       NaN   NaN       1.386294   \n",
              "2     3       4.0           4.0          0       NaN   NaN       1.386294   \n",
              "\n",
              "   Predicted_I  \n",
              "0          0.0  \n",
              "1          0.0  \n",
              "2          0.0  "
            ]
          },
          "metadata": {
            "tags": []
          },
          "execution_count": 2
        }
      ]
    },
    {
      "cell_type": "code",
      "metadata": {
        "id": "4Bjg0A1acTRO",
        "colab_type": "code",
        "colab": {}
      },
      "source": [
        "#Calculate growth per day (growth_p)\n",
        "df['growth_p'] = (df['Infected']/df['Infected_t_1'] - 1.)*100"
      ],
      "execution_count": 0,
      "outputs": []
    },
    {
      "cell_type": "code",
      "metadata": {
        "id": "UL1O0D9gcTRR",
        "colab_type": "code",
        "colab": {}
      },
      "source": [
        "#Calculate growth per day - weighted avg (2 days) (growth_p)\n",
        "df['growth_p'] = ((df['Infected']-df['Infected_t_1'])/2)"
      ],
      "execution_count": 0,
      "outputs": []
    },
    {
      "cell_type": "code",
      "metadata": {
        "id": "F1RljY-6cTRU",
        "colab_type": "code",
        "colab": {}
      },
      "source": [
        "#Calculate fatalties per 100 confirmed infecrted (fatalties_p)\n",
        "df['fatalties_p'] = (df['Dead']/df['Infected'])*1000"
      ],
      "execution_count": 0,
      "outputs": []
    },
    {
      "cell_type": "code",
      "metadata": {
        "id": "XNp8PhD-cTRX",
        "colab_type": "code",
        "outputId": "c1534d68-73da-4b72-eb51-4eb2b468992b",
        "colab": {}
      },
      "source": [
        "df['fatalties_p'].tail(10)"
      ],
      "execution_count": 0,
      "outputs": [
        {
          "output_type": "execute_result",
          "data": {
            "text/plain": [
              "62     8.217543\n",
              "63     9.708885\n",
              "64     9.044164\n",
              "65    11.686959\n",
              "66    13.137283\n",
              "67    13.986551\n",
              "68    14.924280\n",
              "69    15.756219\n",
              "70    16.501974\n",
              "71    18.725096\n",
              "Name: fatalties_p, dtype: float64"
            ]
          },
          "metadata": {
            "tags": []
          },
          "execution_count": 5
        }
      ]
    },
    {
      "cell_type": "code",
      "metadata": {
        "id": "lsJk4WNFcTRa",
        "colab_type": "code",
        "colab": {}
      },
      "source": [
        "#Calculate recovered per 100 confirmed infecrted over time (recovered_p)\n",
        "df['recovered_p'] = (df['Recovered']/df['Infected'])*100"
      ],
      "execution_count": 0,
      "outputs": []
    },
    {
      "cell_type": "code",
      "metadata": {
        "id": "XS5imLoJcTRe",
        "colab_type": "code",
        "outputId": "6a12e22d-1990-42f9-f00c-3e15c926f084",
        "colab": {}
      },
      "source": [
        "df.head(40)\n",
        "#Changing format of data type of infections\n",
        "#df = data\n",
        "#df.dtypes\n",
        "#df['Infected'].astype('int').head(5)"
      ],
      "execution_count": 0,
      "outputs": [
        {
          "output_type": "execute_result",
          "data": {
            "text/html": [
              "<div>\n",
              "<style scoped>\n",
              "    .dataframe tbody tr th:only-of-type {\n",
              "        vertical-align: middle;\n",
              "    }\n",
              "\n",
              "    .dataframe tbody tr th {\n",
              "        vertical-align: top;\n",
              "    }\n",
              "\n",
              "    .dataframe thead th {\n",
              "        text-align: right;\n",
              "    }\n",
              "</style>\n",
              "<table border=\"1\" class=\"dataframe\">\n",
              "  <thead>\n",
              "    <tr style=\"text-align: right;\">\n",
              "      <th></th>\n",
              "      <th>Time</th>\n",
              "      <th>Infected</th>\n",
              "      <th>Infected_t_1</th>\n",
              "      <th>Recovered</th>\n",
              "      <th>growth_p</th>\n",
              "      <th>Dead</th>\n",
              "      <th>logInfections</th>\n",
              "      <th>Predicted_I</th>\n",
              "      <th>fatalties_p</th>\n",
              "      <th>recovered_p</th>\n",
              "    </tr>\n",
              "  </thead>\n",
              "  <tbody>\n",
              "    <tr>\n",
              "      <th>0</th>\n",
              "      <td>1</td>\n",
              "      <td>1.0</td>\n",
              "      <td>NaN</td>\n",
              "      <td>0</td>\n",
              "      <td>NaN</td>\n",
              "      <td>NaN</td>\n",
              "      <td>0.000000</td>\n",
              "      <td>0.0</td>\n",
              "      <td>NaN</td>\n",
              "      <td>0.000000</td>\n",
              "    </tr>\n",
              "    <tr>\n",
              "      <th>1</th>\n",
              "      <td>2</td>\n",
              "      <td>4.0</td>\n",
              "      <td>3.0</td>\n",
              "      <td>0</td>\n",
              "      <td>33.333333</td>\n",
              "      <td>NaN</td>\n",
              "      <td>1.386294</td>\n",
              "      <td>0.0</td>\n",
              "      <td>NaN</td>\n",
              "      <td>0.000000</td>\n",
              "    </tr>\n",
              "    <tr>\n",
              "      <th>2</th>\n",
              "      <td>3</td>\n",
              "      <td>4.0</td>\n",
              "      <td>4.0</td>\n",
              "      <td>0</td>\n",
              "      <td>0.000000</td>\n",
              "      <td>NaN</td>\n",
              "      <td>1.386294</td>\n",
              "      <td>0.0</td>\n",
              "      <td>NaN</td>\n",
              "      <td>0.000000</td>\n",
              "    </tr>\n",
              "    <tr>\n",
              "      <th>3</th>\n",
              "      <td>4</td>\n",
              "      <td>5.0</td>\n",
              "      <td>4.0</td>\n",
              "      <td>0</td>\n",
              "      <td>25.000000</td>\n",
              "      <td>NaN</td>\n",
              "      <td>1.609438</td>\n",
              "      <td>0.0</td>\n",
              "      <td>NaN</td>\n",
              "      <td>0.000000</td>\n",
              "    </tr>\n",
              "    <tr>\n",
              "      <th>4</th>\n",
              "      <td>5</td>\n",
              "      <td>7.0</td>\n",
              "      <td>5.0</td>\n",
              "      <td>0</td>\n",
              "      <td>40.000000</td>\n",
              "      <td>NaN</td>\n",
              "      <td>1.945910</td>\n",
              "      <td>0.0</td>\n",
              "      <td>NaN</td>\n",
              "      <td>0.000000</td>\n",
              "    </tr>\n",
              "    <tr>\n",
              "      <th>5</th>\n",
              "      <td>6</td>\n",
              "      <td>8.0</td>\n",
              "      <td>7.0</td>\n",
              "      <td>0</td>\n",
              "      <td>14.285714</td>\n",
              "      <td>NaN</td>\n",
              "      <td>2.079442</td>\n",
              "      <td>0.0</td>\n",
              "      <td>NaN</td>\n",
              "      <td>0.000000</td>\n",
              "    </tr>\n",
              "    <tr>\n",
              "      <th>6</th>\n",
              "      <td>7</td>\n",
              "      <td>10.0</td>\n",
              "      <td>8.0</td>\n",
              "      <td>0</td>\n",
              "      <td>25.000000</td>\n",
              "      <td>NaN</td>\n",
              "      <td>2.302585</td>\n",
              "      <td>0.0</td>\n",
              "      <td>NaN</td>\n",
              "      <td>0.000000</td>\n",
              "    </tr>\n",
              "    <tr>\n",
              "      <th>7</th>\n",
              "      <td>8</td>\n",
              "      <td>12.0</td>\n",
              "      <td>10.0</td>\n",
              "      <td>0</td>\n",
              "      <td>20.000000</td>\n",
              "      <td>NaN</td>\n",
              "      <td>2.484907</td>\n",
              "      <td>0.0</td>\n",
              "      <td>NaN</td>\n",
              "      <td>0.000000</td>\n",
              "    </tr>\n",
              "    <tr>\n",
              "      <th>8</th>\n",
              "      <td>9</td>\n",
              "      <td>12.0</td>\n",
              "      <td>12.0</td>\n",
              "      <td>0</td>\n",
              "      <td>0.000000</td>\n",
              "      <td>NaN</td>\n",
              "      <td>2.484907</td>\n",
              "      <td>0.0</td>\n",
              "      <td>NaN</td>\n",
              "      <td>0.000000</td>\n",
              "    </tr>\n",
              "    <tr>\n",
              "      <th>9</th>\n",
              "      <td>10</td>\n",
              "      <td>12.0</td>\n",
              "      <td>12.0</td>\n",
              "      <td>0</td>\n",
              "      <td>0.000000</td>\n",
              "      <td>NaN</td>\n",
              "      <td>2.484907</td>\n",
              "      <td>0.0</td>\n",
              "      <td>NaN</td>\n",
              "      <td>0.000000</td>\n",
              "    </tr>\n",
              "    <tr>\n",
              "      <th>10</th>\n",
              "      <td>11</td>\n",
              "      <td>13.0</td>\n",
              "      <td>12.0</td>\n",
              "      <td>0</td>\n",
              "      <td>8.333333</td>\n",
              "      <td>NaN</td>\n",
              "      <td>2.564949</td>\n",
              "      <td>0.0</td>\n",
              "      <td>NaN</td>\n",
              "      <td>0.000000</td>\n",
              "    </tr>\n",
              "    <tr>\n",
              "      <th>11</th>\n",
              "      <td>12</td>\n",
              "      <td>14.0</td>\n",
              "      <td>13.0</td>\n",
              "      <td>0</td>\n",
              "      <td>7.692308</td>\n",
              "      <td>NaN</td>\n",
              "      <td>2.639057</td>\n",
              "      <td>0.0</td>\n",
              "      <td>NaN</td>\n",
              "      <td>0.000000</td>\n",
              "    </tr>\n",
              "    <tr>\n",
              "      <th>12</th>\n",
              "      <td>13</td>\n",
              "      <td>14.0</td>\n",
              "      <td>14.0</td>\n",
              "      <td>0</td>\n",
              "      <td>0.000000</td>\n",
              "      <td>NaN</td>\n",
              "      <td>2.639057</td>\n",
              "      <td>0.0</td>\n",
              "      <td>NaN</td>\n",
              "      <td>0.000000</td>\n",
              "    </tr>\n",
              "    <tr>\n",
              "      <th>13</th>\n",
              "      <td>14</td>\n",
              "      <td>14.0</td>\n",
              "      <td>14.0</td>\n",
              "      <td>0</td>\n",
              "      <td>0.000000</td>\n",
              "      <td>NaN</td>\n",
              "      <td>2.639057</td>\n",
              "      <td>0.0</td>\n",
              "      <td>NaN</td>\n",
              "      <td>0.000000</td>\n",
              "    </tr>\n",
              "    <tr>\n",
              "      <th>14</th>\n",
              "      <td>15</td>\n",
              "      <td>14.0</td>\n",
              "      <td>14.0</td>\n",
              "      <td>0</td>\n",
              "      <td>0.000000</td>\n",
              "      <td>NaN</td>\n",
              "      <td>2.639057</td>\n",
              "      <td>0.0</td>\n",
              "      <td>NaN</td>\n",
              "      <td>0.000000</td>\n",
              "    </tr>\n",
              "    <tr>\n",
              "      <th>15</th>\n",
              "      <td>16</td>\n",
              "      <td>16.0</td>\n",
              "      <td>14.0</td>\n",
              "      <td>0</td>\n",
              "      <td>14.285714</td>\n",
              "      <td>NaN</td>\n",
              "      <td>2.772589</td>\n",
              "      <td>0.0</td>\n",
              "      <td>NaN</td>\n",
              "      <td>0.000000</td>\n",
              "    </tr>\n",
              "    <tr>\n",
              "      <th>16</th>\n",
              "      <td>17</td>\n",
              "      <td>16.0</td>\n",
              "      <td>16.0</td>\n",
              "      <td>0</td>\n",
              "      <td>0.000000</td>\n",
              "      <td>NaN</td>\n",
              "      <td>2.772589</td>\n",
              "      <td>0.0</td>\n",
              "      <td>NaN</td>\n",
              "      <td>0.000000</td>\n",
              "    </tr>\n",
              "    <tr>\n",
              "      <th>17</th>\n",
              "      <td>18</td>\n",
              "      <td>16.0</td>\n",
              "      <td>16.0</td>\n",
              "      <td>1</td>\n",
              "      <td>0.000000</td>\n",
              "      <td>NaN</td>\n",
              "      <td>2.772589</td>\n",
              "      <td>0.0</td>\n",
              "      <td>NaN</td>\n",
              "      <td>6.250000</td>\n",
              "    </tr>\n",
              "    <tr>\n",
              "      <th>18</th>\n",
              "      <td>19</td>\n",
              "      <td>16.0</td>\n",
              "      <td>16.0</td>\n",
              "      <td>1</td>\n",
              "      <td>0.000000</td>\n",
              "      <td>NaN</td>\n",
              "      <td>2.772589</td>\n",
              "      <td>0.0</td>\n",
              "      <td>NaN</td>\n",
              "      <td>6.250000</td>\n",
              "    </tr>\n",
              "    <tr>\n",
              "      <th>19</th>\n",
              "      <td>20</td>\n",
              "      <td>16.0</td>\n",
              "      <td>16.0</td>\n",
              "      <td>1</td>\n",
              "      <td>0.000000</td>\n",
              "      <td>NaN</td>\n",
              "      <td>2.772589</td>\n",
              "      <td>0.0</td>\n",
              "      <td>NaN</td>\n",
              "      <td>6.250000</td>\n",
              "    </tr>\n",
              "    <tr>\n",
              "      <th>20</th>\n",
              "      <td>21</td>\n",
              "      <td>16.0</td>\n",
              "      <td>16.0</td>\n",
              "      <td>1</td>\n",
              "      <td>0.000000</td>\n",
              "      <td>NaN</td>\n",
              "      <td>2.772589</td>\n",
              "      <td>0.0</td>\n",
              "      <td>NaN</td>\n",
              "      <td>6.250000</td>\n",
              "    </tr>\n",
              "    <tr>\n",
              "      <th>21</th>\n",
              "      <td>22</td>\n",
              "      <td>16.0</td>\n",
              "      <td>16.0</td>\n",
              "      <td>1</td>\n",
              "      <td>0.000000</td>\n",
              "      <td>NaN</td>\n",
              "      <td>2.772589</td>\n",
              "      <td>0.0</td>\n",
              "      <td>NaN</td>\n",
              "      <td>6.250000</td>\n",
              "    </tr>\n",
              "    <tr>\n",
              "      <th>22</th>\n",
              "      <td>23</td>\n",
              "      <td>16.0</td>\n",
              "      <td>16.0</td>\n",
              "      <td>7</td>\n",
              "      <td>0.000000</td>\n",
              "      <td>NaN</td>\n",
              "      <td>2.772589</td>\n",
              "      <td>0.0</td>\n",
              "      <td>NaN</td>\n",
              "      <td>43.750000</td>\n",
              "    </tr>\n",
              "    <tr>\n",
              "      <th>23</th>\n",
              "      <td>24</td>\n",
              "      <td>16.0</td>\n",
              "      <td>16.0</td>\n",
              "      <td>1</td>\n",
              "      <td>0.000000</td>\n",
              "      <td>NaN</td>\n",
              "      <td>2.772589</td>\n",
              "      <td>0.0</td>\n",
              "      <td>NaN</td>\n",
              "      <td>6.250000</td>\n",
              "    </tr>\n",
              "    <tr>\n",
              "      <th>24</th>\n",
              "      <td>25</td>\n",
              "      <td>16.0</td>\n",
              "      <td>16.0</td>\n",
              "      <td>7</td>\n",
              "      <td>0.000000</td>\n",
              "      <td>NaN</td>\n",
              "      <td>2.772589</td>\n",
              "      <td>0.0</td>\n",
              "      <td>NaN</td>\n",
              "      <td>43.750000</td>\n",
              "    </tr>\n",
              "    <tr>\n",
              "      <th>25</th>\n",
              "      <td>26</td>\n",
              "      <td>16.0</td>\n",
              "      <td>16.0</td>\n",
              "      <td>11</td>\n",
              "      <td>0.000000</td>\n",
              "      <td>NaN</td>\n",
              "      <td>2.772589</td>\n",
              "      <td>0.0</td>\n",
              "      <td>NaN</td>\n",
              "      <td>68.750000</td>\n",
              "    </tr>\n",
              "    <tr>\n",
              "      <th>26</th>\n",
              "      <td>27</td>\n",
              "      <td>16.0</td>\n",
              "      <td>16.0</td>\n",
              "      <td>11</td>\n",
              "      <td>0.000000</td>\n",
              "      <td>NaN</td>\n",
              "      <td>2.772589</td>\n",
              "      <td>0.0</td>\n",
              "      <td>NaN</td>\n",
              "      <td>68.750000</td>\n",
              "    </tr>\n",
              "    <tr>\n",
              "      <th>27</th>\n",
              "      <td>28</td>\n",
              "      <td>16.0</td>\n",
              "      <td>16.0</td>\n",
              "      <td>11</td>\n",
              "      <td>0.000000</td>\n",
              "      <td>NaN</td>\n",
              "      <td>2.772589</td>\n",
              "      <td>0.0</td>\n",
              "      <td>NaN</td>\n",
              "      <td>68.750000</td>\n",
              "    </tr>\n",
              "    <tr>\n",
              "      <th>28</th>\n",
              "      <td>29</td>\n",
              "      <td>16.0</td>\n",
              "      <td>16.0</td>\n",
              "      <td>11</td>\n",
              "      <td>0.000000</td>\n",
              "      <td>NaN</td>\n",
              "      <td>2.772589</td>\n",
              "      <td>0.0</td>\n",
              "      <td>NaN</td>\n",
              "      <td>68.750000</td>\n",
              "    </tr>\n",
              "    <tr>\n",
              "      <th>29</th>\n",
              "      <td>30</td>\n",
              "      <td>18.0</td>\n",
              "      <td>16.0</td>\n",
              "      <td>11</td>\n",
              "      <td>12.500000</td>\n",
              "      <td>NaN</td>\n",
              "      <td>2.890372</td>\n",
              "      <td>0.0</td>\n",
              "      <td>NaN</td>\n",
              "      <td>61.111111</td>\n",
              "    </tr>\n",
              "    <tr>\n",
              "      <th>30</th>\n",
              "      <td>31</td>\n",
              "      <td>21.0</td>\n",
              "      <td>18.0</td>\n",
              "      <td>15</td>\n",
              "      <td>16.666667</td>\n",
              "      <td>NaN</td>\n",
              "      <td>3.044522</td>\n",
              "      <td>0.0</td>\n",
              "      <td>NaN</td>\n",
              "      <td>71.428571</td>\n",
              "    </tr>\n",
              "    <tr>\n",
              "      <th>31</th>\n",
              "      <td>32</td>\n",
              "      <td>26.0</td>\n",
              "      <td>21.0</td>\n",
              "      <td>16</td>\n",
              "      <td>23.809524</td>\n",
              "      <td>NaN</td>\n",
              "      <td>3.258097</td>\n",
              "      <td>0.0</td>\n",
              "      <td>NaN</td>\n",
              "      <td>61.538462</td>\n",
              "    </tr>\n",
              "    <tr>\n",
              "      <th>32</th>\n",
              "      <td>33</td>\n",
              "      <td>55.0</td>\n",
              "      <td>26.0</td>\n",
              "      <td>16</td>\n",
              "      <td>111.538462</td>\n",
              "      <td>NaN</td>\n",
              "      <td>4.007333</td>\n",
              "      <td>0.0</td>\n",
              "      <td>NaN</td>\n",
              "      <td>29.090909</td>\n",
              "    </tr>\n",
              "    <tr>\n",
              "      <th>33</th>\n",
              "      <td>34</td>\n",
              "      <td>68.0</td>\n",
              "      <td>55.0</td>\n",
              "      <td>16</td>\n",
              "      <td>23.636364</td>\n",
              "      <td>NaN</td>\n",
              "      <td>4.219508</td>\n",
              "      <td>0.0</td>\n",
              "      <td>NaN</td>\n",
              "      <td>23.529412</td>\n",
              "    </tr>\n",
              "    <tr>\n",
              "      <th>34</th>\n",
              "      <td>35</td>\n",
              "      <td>119.0</td>\n",
              "      <td>68.0</td>\n",
              "      <td>16</td>\n",
              "      <td>75.000000</td>\n",
              "      <td>NaN</td>\n",
              "      <td>4.779123</td>\n",
              "      <td>0.0</td>\n",
              "      <td>NaN</td>\n",
              "      <td>13.445378</td>\n",
              "    </tr>\n",
              "    <tr>\n",
              "      <th>35</th>\n",
              "      <td>36</td>\n",
              "      <td>152.0</td>\n",
              "      <td>119.0</td>\n",
              "      <td>16</td>\n",
              "      <td>27.731092</td>\n",
              "      <td>NaN</td>\n",
              "      <td>5.023881</td>\n",
              "      <td>0.0</td>\n",
              "      <td>NaN</td>\n",
              "      <td>10.526316</td>\n",
              "    </tr>\n",
              "    <tr>\n",
              "      <th>36</th>\n",
              "      <td>37</td>\n",
              "      <td>190.0</td>\n",
              "      <td>152.0</td>\n",
              "      <td>16</td>\n",
              "      <td>25.000000</td>\n",
              "      <td>NaN</td>\n",
              "      <td>5.247024</td>\n",
              "      <td>0.0</td>\n",
              "      <td>NaN</td>\n",
              "      <td>8.421053</td>\n",
              "    </tr>\n",
              "    <tr>\n",
              "      <th>37</th>\n",
              "      <td>38</td>\n",
              "      <td>264.0</td>\n",
              "      <td>190.0</td>\n",
              "      <td>16</td>\n",
              "      <td>38.947368</td>\n",
              "      <td>NaN</td>\n",
              "      <td>5.575949</td>\n",
              "      <td>0.0</td>\n",
              "      <td>NaN</td>\n",
              "      <td>6.060606</td>\n",
              "    </tr>\n",
              "    <tr>\n",
              "      <th>38</th>\n",
              "      <td>39</td>\n",
              "      <td>402.0</td>\n",
              "      <td>264.0</td>\n",
              "      <td>16</td>\n",
              "      <td>52.272727</td>\n",
              "      <td>NaN</td>\n",
              "      <td>5.996452</td>\n",
              "      <td>0.0</td>\n",
              "      <td>NaN</td>\n",
              "      <td>3.980100</td>\n",
              "    </tr>\n",
              "    <tr>\n",
              "      <th>39</th>\n",
              "      <td>40</td>\n",
              "      <td>641.0</td>\n",
              "      <td>402.0</td>\n",
              "      <td>16</td>\n",
              "      <td>59.452736</td>\n",
              "      <td>NaN</td>\n",
              "      <td>6.463029</td>\n",
              "      <td>0.0</td>\n",
              "      <td>NaN</td>\n",
              "      <td>2.496100</td>\n",
              "    </tr>\n",
              "  </tbody>\n",
              "</table>\n",
              "</div>"
            ],
            "text/plain": [
              "    Time  Infected  Infected_t_1  Recovered    growth_p  Dead  logInfections  \\\n",
              "0      1       1.0           NaN          0         NaN   NaN       0.000000   \n",
              "1      2       4.0           3.0          0   33.333333   NaN       1.386294   \n",
              "2      3       4.0           4.0          0    0.000000   NaN       1.386294   \n",
              "3      4       5.0           4.0          0   25.000000   NaN       1.609438   \n",
              "4      5       7.0           5.0          0   40.000000   NaN       1.945910   \n",
              "5      6       8.0           7.0          0   14.285714   NaN       2.079442   \n",
              "6      7      10.0           8.0          0   25.000000   NaN       2.302585   \n",
              "7      8      12.0          10.0          0   20.000000   NaN       2.484907   \n",
              "8      9      12.0          12.0          0    0.000000   NaN       2.484907   \n",
              "9     10      12.0          12.0          0    0.000000   NaN       2.484907   \n",
              "10    11      13.0          12.0          0    8.333333   NaN       2.564949   \n",
              "11    12      14.0          13.0          0    7.692308   NaN       2.639057   \n",
              "12    13      14.0          14.0          0    0.000000   NaN       2.639057   \n",
              "13    14      14.0          14.0          0    0.000000   NaN       2.639057   \n",
              "14    15      14.0          14.0          0    0.000000   NaN       2.639057   \n",
              "15    16      16.0          14.0          0   14.285714   NaN       2.772589   \n",
              "16    17      16.0          16.0          0    0.000000   NaN       2.772589   \n",
              "17    18      16.0          16.0          1    0.000000   NaN       2.772589   \n",
              "18    19      16.0          16.0          1    0.000000   NaN       2.772589   \n",
              "19    20      16.0          16.0          1    0.000000   NaN       2.772589   \n",
              "20    21      16.0          16.0          1    0.000000   NaN       2.772589   \n",
              "21    22      16.0          16.0          1    0.000000   NaN       2.772589   \n",
              "22    23      16.0          16.0          7    0.000000   NaN       2.772589   \n",
              "23    24      16.0          16.0          1    0.000000   NaN       2.772589   \n",
              "24    25      16.0          16.0          7    0.000000   NaN       2.772589   \n",
              "25    26      16.0          16.0         11    0.000000   NaN       2.772589   \n",
              "26    27      16.0          16.0         11    0.000000   NaN       2.772589   \n",
              "27    28      16.0          16.0         11    0.000000   NaN       2.772589   \n",
              "28    29      16.0          16.0         11    0.000000   NaN       2.772589   \n",
              "29    30      18.0          16.0         11   12.500000   NaN       2.890372   \n",
              "30    31      21.0          18.0         15   16.666667   NaN       3.044522   \n",
              "31    32      26.0          21.0         16   23.809524   NaN       3.258097   \n",
              "32    33      55.0          26.0         16  111.538462   NaN       4.007333   \n",
              "33    34      68.0          55.0         16   23.636364   NaN       4.219508   \n",
              "34    35     119.0          68.0         16   75.000000   NaN       4.779123   \n",
              "35    36     152.0         119.0         16   27.731092   NaN       5.023881   \n",
              "36    37     190.0         152.0         16   25.000000   NaN       5.247024   \n",
              "37    38     264.0         190.0         16   38.947368   NaN       5.575949   \n",
              "38    39     402.0         264.0         16   52.272727   NaN       5.996452   \n",
              "39    40     641.0         402.0         16   59.452736   NaN       6.463029   \n",
              "\n",
              "    Predicted_I  fatalties_p  recovered_p  \n",
              "0           0.0          NaN     0.000000  \n",
              "1           0.0          NaN     0.000000  \n",
              "2           0.0          NaN     0.000000  \n",
              "3           0.0          NaN     0.000000  \n",
              "4           0.0          NaN     0.000000  \n",
              "5           0.0          NaN     0.000000  \n",
              "6           0.0          NaN     0.000000  \n",
              "7           0.0          NaN     0.000000  \n",
              "8           0.0          NaN     0.000000  \n",
              "9           0.0          NaN     0.000000  \n",
              "10          0.0          NaN     0.000000  \n",
              "11          0.0          NaN     0.000000  \n",
              "12          0.0          NaN     0.000000  \n",
              "13          0.0          NaN     0.000000  \n",
              "14          0.0          NaN     0.000000  \n",
              "15          0.0          NaN     0.000000  \n",
              "16          0.0          NaN     0.000000  \n",
              "17          0.0          NaN     6.250000  \n",
              "18          0.0          NaN     6.250000  \n",
              "19          0.0          NaN     6.250000  \n",
              "20          0.0          NaN     6.250000  \n",
              "21          0.0          NaN     6.250000  \n",
              "22          0.0          NaN    43.750000  \n",
              "23          0.0          NaN     6.250000  \n",
              "24          0.0          NaN    43.750000  \n",
              "25          0.0          NaN    68.750000  \n",
              "26          0.0          NaN    68.750000  \n",
              "27          0.0          NaN    68.750000  \n",
              "28          0.0          NaN    68.750000  \n",
              "29          0.0          NaN    61.111111  \n",
              "30          0.0          NaN    71.428571  \n",
              "31          0.0          NaN    61.538462  \n",
              "32          0.0          NaN    29.090909  \n",
              "33          0.0          NaN    23.529412  \n",
              "34          0.0          NaN    13.445378  \n",
              "35          0.0          NaN    10.526316  \n",
              "36          0.0          NaN     8.421053  \n",
              "37          0.0          NaN     6.060606  \n",
              "38          0.0          NaN     3.980100  \n",
              "39          0.0          NaN     2.496100  "
            ]
          },
          "metadata": {
            "tags": []
          },
          "execution_count": 7
        }
      ]
    },
    {
      "cell_type": "code",
      "metadata": {
        "id": "Q0VVoI7-cTRg",
        "colab_type": "code",
        "outputId": "40aac84d-634c-4bd4-d26b-613f322bf306",
        "colab": {}
      },
      "source": [
        "df.tail(20)"
      ],
      "execution_count": 0,
      "outputs": [
        {
          "output_type": "execute_result",
          "data": {
            "text/html": [
              "<div>\n",
              "<style scoped>\n",
              "    .dataframe tbody tr th:only-of-type {\n",
              "        vertical-align: middle;\n",
              "    }\n",
              "\n",
              "    .dataframe tbody tr th {\n",
              "        vertical-align: top;\n",
              "    }\n",
              "\n",
              "    .dataframe thead th {\n",
              "        text-align: right;\n",
              "    }\n",
              "</style>\n",
              "<table border=\"1\" class=\"dataframe\">\n",
              "  <thead>\n",
              "    <tr style=\"text-align: right;\">\n",
              "      <th></th>\n",
              "      <th>Time</th>\n",
              "      <th>Infected</th>\n",
              "      <th>Infected_t_1</th>\n",
              "      <th>Recovered</th>\n",
              "      <th>growth_p</th>\n",
              "      <th>Dead</th>\n",
              "      <th>logInfections</th>\n",
              "      <th>Predicted_I</th>\n",
              "      <th>fatalties_p</th>\n",
              "      <th>recovered_p</th>\n",
              "    </tr>\n",
              "  </thead>\n",
              "  <tbody>\n",
              "    <tr>\n",
              "      <th>52</th>\n",
              "      <td>53</td>\n",
              "      <td>15322.0</td>\n",
              "      <td>12329.0</td>\n",
              "      <td>17</td>\n",
              "      <td>24.276097</td>\n",
              "      <td>44.0</td>\n",
              "      <td>9.637045</td>\n",
              "      <td>0.0</td>\n",
              "      <td>2.871688</td>\n",
              "      <td>0.110952</td>\n",
              "    </tr>\n",
              "    <tr>\n",
              "      <th>53</th>\n",
              "      <td>54</td>\n",
              "      <td>19850.0</td>\n",
              "      <td>15322.0</td>\n",
              "      <td>182</td>\n",
              "      <td>29.552278</td>\n",
              "      <td>68.0</td>\n",
              "      <td>9.895959</td>\n",
              "      <td>0.0</td>\n",
              "      <td>3.425693</td>\n",
              "      <td>0.916877</td>\n",
              "    </tr>\n",
              "    <tr>\n",
              "      <th>54</th>\n",
              "      <td>55</td>\n",
              "      <td>22366.0</td>\n",
              "      <td>19850.0</td>\n",
              "      <td>241</td>\n",
              "      <td>12.675063</td>\n",
              "      <td>84.0</td>\n",
              "      <td>10.015297</td>\n",
              "      <td>0.0</td>\n",
              "      <td>3.755701</td>\n",
              "      <td>1.077528</td>\n",
              "    </tr>\n",
              "    <tr>\n",
              "      <th>55</th>\n",
              "      <td>56</td>\n",
              "      <td>24875.0</td>\n",
              "      <td>22366.0</td>\n",
              "      <td>268</td>\n",
              "      <td>11.217920</td>\n",
              "      <td>94.0</td>\n",
              "      <td>10.121619</td>\n",
              "      <td>0.0</td>\n",
              "      <td>3.778894</td>\n",
              "      <td>1.077387</td>\n",
              "    </tr>\n",
              "    <tr>\n",
              "      <th>56</th>\n",
              "      <td>57</td>\n",
              "      <td>29056.0</td>\n",
              "      <td>24875.0</td>\n",
              "      <td>453</td>\n",
              "      <td>16.808040</td>\n",
              "      <td>123.0</td>\n",
              "      <td>10.276980</td>\n",
              "      <td>0.0</td>\n",
              "      <td>4.233205</td>\n",
              "      <td>1.559058</td>\n",
              "    </tr>\n",
              "    <tr>\n",
              "      <th>57</th>\n",
              "      <td>58</td>\n",
              "      <td>32991.0</td>\n",
              "      <td>29056.0</td>\n",
              "      <td>3290</td>\n",
              "      <td>13.542814</td>\n",
              "      <td>159.0</td>\n",
              "      <td>10.403990</td>\n",
              "      <td>0.0</td>\n",
              "      <td>4.819496</td>\n",
              "      <td>9.972417</td>\n",
              "    </tr>\n",
              "    <tr>\n",
              "      <th>58</th>\n",
              "      <td>59</td>\n",
              "      <td>37323.0</td>\n",
              "      <td>32991.0</td>\n",
              "      <td>3547</td>\n",
              "      <td>13.130854</td>\n",
              "      <td>206.0</td>\n",
              "      <td>10.527365</td>\n",
              "      <td>0.0</td>\n",
              "      <td>5.519385</td>\n",
              "      <td>9.503523</td>\n",
              "    </tr>\n",
              "    <tr>\n",
              "      <th>59</th>\n",
              "      <td>60</td>\n",
              "      <td>43211.0</td>\n",
              "      <td>37323.0</td>\n",
              "      <td>5677</td>\n",
              "      <td>15.775795</td>\n",
              "      <td>262.0</td>\n",
              "      <td>10.673850</td>\n",
              "      <td>0.0</td>\n",
              "      <td>6.063271</td>\n",
              "      <td>13.137858</td>\n",
              "    </tr>\n",
              "    <tr>\n",
              "      <th>60</th>\n",
              "      <td>61</td>\n",
              "      <td>49039.0</td>\n",
              "      <td>43211.0</td>\n",
              "      <td>6932</td>\n",
              "      <td>13.487306</td>\n",
              "      <td>323.0</td>\n",
              "      <td>10.800371</td>\n",
              "      <td>0.0</td>\n",
              "      <td>6.586594</td>\n",
              "      <td>14.135688</td>\n",
              "    </tr>\n",
              "    <tr>\n",
              "      <th>61</th>\n",
              "      <td>62</td>\n",
              "      <td>54268.0</td>\n",
              "      <td>49039.0</td>\n",
              "      <td>8481</td>\n",
              "      <td>10.662942</td>\n",
              "      <td>403.0</td>\n",
              "      <td>10.901690</td>\n",
              "      <td>0.0</td>\n",
              "      <td>7.426107</td>\n",
              "      <td>15.627994</td>\n",
              "    </tr>\n",
              "    <tr>\n",
              "      <th>62</th>\n",
              "      <td>63</td>\n",
              "      <td>58655.0</td>\n",
              "      <td>54268.0</td>\n",
              "      <td>9200</td>\n",
              "      <td>8.083954</td>\n",
              "      <td>482.0</td>\n",
              "      <td>10.979428</td>\n",
              "      <td>0.0</td>\n",
              "      <td>8.217543</td>\n",
              "      <td>15.684937</td>\n",
              "    </tr>\n",
              "    <tr>\n",
              "      <th>63</th>\n",
              "      <td>64</td>\n",
              "      <td>66125.0</td>\n",
              "      <td>58655.0</td>\n",
              "      <td>13500</td>\n",
              "      <td>12.735487</td>\n",
              "      <td>642.0</td>\n",
              "      <td>11.099302</td>\n",
              "      <td>0.0</td>\n",
              "      <td>9.708885</td>\n",
              "      <td>20.415879</td>\n",
              "    </tr>\n",
              "    <tr>\n",
              "      <th>64</th>\n",
              "      <td>65</td>\n",
              "      <td>70985.0</td>\n",
              "      <td>66125.0</td>\n",
              "      <td>13500</td>\n",
              "      <td>7.349716</td>\n",
              "      <td>642.0</td>\n",
              "      <td>11.170224</td>\n",
              "      <td>0.0</td>\n",
              "      <td>9.044164</td>\n",
              "      <td>19.018102</td>\n",
              "    </tr>\n",
              "    <tr>\n",
              "      <th>65</th>\n",
              "      <td>66</td>\n",
              "      <td>77779.0</td>\n",
              "      <td>70985.0</td>\n",
              "      <td>19175</td>\n",
              "      <td>9.571036</td>\n",
              "      <td>909.0</td>\n",
              "      <td>11.261627</td>\n",
              "      <td>0.0</td>\n",
              "      <td>11.686959</td>\n",
              "      <td>24.653184</td>\n",
              "    </tr>\n",
              "    <tr>\n",
              "      <th>66</th>\n",
              "      <td>67</td>\n",
              "      <td>84264.0</td>\n",
              "      <td>77779.0</td>\n",
              "      <td>22440</td>\n",
              "      <td>8.337726</td>\n",
              "      <td>1107.0</td>\n",
              "      <td>11.341710</td>\n",
              "      <td>0.0</td>\n",
              "      <td>13.137283</td>\n",
              "      <td>26.630590</td>\n",
              "    </tr>\n",
              "    <tr>\n",
              "      <th>67</th>\n",
              "      <td>68</td>\n",
              "      <td>91159.0</td>\n",
              "      <td>84264.0</td>\n",
              "      <td>22981</td>\n",
              "      <td>8.182617</td>\n",
              "      <td>1275.0</td>\n",
              "      <td>11.420361</td>\n",
              "      <td>0.0</td>\n",
              "      <td>13.986551</td>\n",
              "      <td>25.209798</td>\n",
              "    </tr>\n",
              "    <tr>\n",
              "      <th>68</th>\n",
              "      <td>69</td>\n",
              "      <td>95616.0</td>\n",
              "      <td>91159.0</td>\n",
              "      <td>26144</td>\n",
              "      <td>4.889259</td>\n",
              "      <td>1427.0</td>\n",
              "      <td>11.468095</td>\n",
              "      <td>0.0</td>\n",
              "      <td>14.924280</td>\n",
              "      <td>27.342704</td>\n",
              "    </tr>\n",
              "    <tr>\n",
              "      <th>69</th>\n",
              "      <td>70</td>\n",
              "      <td>100024.0</td>\n",
              "      <td>95616.0</td>\n",
              "      <td>26469</td>\n",
              "      <td>4.610107</td>\n",
              "      <td>1576.0</td>\n",
              "      <td>11.513165</td>\n",
              "      <td>0.0</td>\n",
              "      <td>15.756219</td>\n",
              "      <td>26.462649</td>\n",
              "    </tr>\n",
              "    <tr>\n",
              "      <th>70</th>\n",
              "      <td>71</td>\n",
              "      <td>101806.0</td>\n",
              "      <td>100024.0</td>\n",
              "      <td>36081</td>\n",
              "      <td>1.781572</td>\n",
              "      <td>1680.0</td>\n",
              "      <td>11.530824</td>\n",
              "      <td>0.0</td>\n",
              "      <td>16.501974</td>\n",
              "      <td>35.440937</td>\n",
              "    </tr>\n",
              "    <tr>\n",
              "      <th>71</th>\n",
              "      <td>72</td>\n",
              "      <td>107663.0</td>\n",
              "      <td>101806.0</td>\n",
              "      <td>38287</td>\n",
              "      <td>5.753099</td>\n",
              "      <td>2016.0</td>\n",
              "      <td>11.586761</td>\n",
              "      <td>0.0</td>\n",
              "      <td>18.725096</td>\n",
              "      <td>35.561892</td>\n",
              "    </tr>\n",
              "  </tbody>\n",
              "</table>\n",
              "</div>"
            ],
            "text/plain": [
              "    Time  Infected  Infected_t_1  Recovered   growth_p    Dead  logInfections  \\\n",
              "52    53   15322.0       12329.0         17  24.276097    44.0       9.637045   \n",
              "53    54   19850.0       15322.0        182  29.552278    68.0       9.895959   \n",
              "54    55   22366.0       19850.0        241  12.675063    84.0      10.015297   \n",
              "55    56   24875.0       22366.0        268  11.217920    94.0      10.121619   \n",
              "56    57   29056.0       24875.0        453  16.808040   123.0      10.276980   \n",
              "57    58   32991.0       29056.0       3290  13.542814   159.0      10.403990   \n",
              "58    59   37323.0       32991.0       3547  13.130854   206.0      10.527365   \n",
              "59    60   43211.0       37323.0       5677  15.775795   262.0      10.673850   \n",
              "60    61   49039.0       43211.0       6932  13.487306   323.0      10.800371   \n",
              "61    62   54268.0       49039.0       8481  10.662942   403.0      10.901690   \n",
              "62    63   58655.0       54268.0       9200   8.083954   482.0      10.979428   \n",
              "63    64   66125.0       58655.0      13500  12.735487   642.0      11.099302   \n",
              "64    65   70985.0       66125.0      13500   7.349716   642.0      11.170224   \n",
              "65    66   77779.0       70985.0      19175   9.571036   909.0      11.261627   \n",
              "66    67   84264.0       77779.0      22440   8.337726  1107.0      11.341710   \n",
              "67    68   91159.0       84264.0      22981   8.182617  1275.0      11.420361   \n",
              "68    69   95616.0       91159.0      26144   4.889259  1427.0      11.468095   \n",
              "69    70  100024.0       95616.0      26469   4.610107  1576.0      11.513165   \n",
              "70    71  101806.0      100024.0      36081   1.781572  1680.0      11.530824   \n",
              "71    72  107663.0      101806.0      38287   5.753099  2016.0      11.586761   \n",
              "\n",
              "    Predicted_I  fatalties_p  recovered_p  \n",
              "52          0.0     2.871688     0.110952  \n",
              "53          0.0     3.425693     0.916877  \n",
              "54          0.0     3.755701     1.077528  \n",
              "55          0.0     3.778894     1.077387  \n",
              "56          0.0     4.233205     1.559058  \n",
              "57          0.0     4.819496     9.972417  \n",
              "58          0.0     5.519385     9.503523  \n",
              "59          0.0     6.063271    13.137858  \n",
              "60          0.0     6.586594    14.135688  \n",
              "61          0.0     7.426107    15.627994  \n",
              "62          0.0     8.217543    15.684937  \n",
              "63          0.0     9.708885    20.415879  \n",
              "64          0.0     9.044164    19.018102  \n",
              "65          0.0    11.686959    24.653184  \n",
              "66          0.0    13.137283    26.630590  \n",
              "67          0.0    13.986551    25.209798  \n",
              "68          0.0    14.924280    27.342704  \n",
              "69          0.0    15.756219    26.462649  \n",
              "70          0.0    16.501974    35.440937  \n",
              "71          0.0    18.725096    35.561892  "
            ]
          },
          "metadata": {
            "tags": []
          },
          "execution_count": 8
        }
      ]
    },
    {
      "cell_type": "code",
      "metadata": {
        "id": "wz1wzUfZcTRi",
        "colab_type": "code",
        "outputId": "21a3e755-6801-4c86-b106-7c2825d96fe0",
        "colab": {}
      },
      "source": [
        "lines = df.Infected.plot.line()\n",
        "lines_all = df.plot.line()"
      ],
      "execution_count": 0,
      "outputs": [
        {
          "output_type": "display_data",
          "data": {
            "image/png": "[encoded data removed]",
            "text/plain": [
              "<Figure size 432x288 with 1 Axes>"
            ]
          },
          "metadata": {
            "tags": [],
            "needs_background": "light"
          }
        },
        {
          "output_type": "display_data",
          "data": {
            "image/png": "[encoded data removed]",
            "text/plain": [
              "<Figure size 432x288 with 1 Axes>"
            ]
          },
          "metadata": {
            "tags": [],
            "needs_background": "light"
          }
        }
      ]
    },
    {
      "cell_type": "code",
      "metadata": {
        "id": "w33uCihWcTRl",
        "colab_type": "code",
        "outputId": "7d6046f0-f565-46a0-fcb7-73f92079bf92",
        "colab": {}
      },
      "source": [
        "#Creating a plot of the actual data row based on daily observations\n",
        "lines = df.growth_p.plot.line()\n",
        "plt.title(\"Corona Growth per day(%)-Germany since Jan 27th,2020\")\n",
        "plt.xlabel(\"t (days)\")\n",
        "plt.ylabel(\"groth (%)\");\n"
      ],
      "execution_count": 0,
      "outputs": [
        {
          "output_type": "display_data",
          "data": {
            "image/png": "[encoded data removed]",
            "text/plain": [
              "<Figure size 432x288 with 1 Axes>"
            ]
          },
          "metadata": {
            "tags": [],
            "needs_background": "light"
          }
        }
      ]
    },
    {
      "cell_type": "code",
      "metadata": {
        "id": "XauSl7fAcTRq",
        "colab_type": "code",
        "outputId": "58403e50-dbe7-4191-e603-c481df94a7a4",
        "colab": {}
      },
      "source": [
        "#Creating a plot of the actual data row based on daily observations\n",
        "lines = df.fatalties_p.plot.line()\n",
        "plt.title(\"Fatalty rate development per day(pro mill)-Germany since Jan 27th,2020\")\n",
        "plt.xlabel(\"t (days)\")\n",
        "plt.ylabel(\"fatalties per mill\");"
      ],
      "execution_count": 0,
      "outputs": [
        {
          "output_type": "display_data",
          "data": {
            "image/png": "[encoded data removed]",
            "text/plain": [
              "<Figure size 432x288 with 1 Axes>"
            ]
          },
          "metadata": {
            "tags": [],
            "needs_background": "light"
          }
        }
      ]
    },
    {
      "cell_type": "code",
      "metadata": {
        "id": "-hjoopnecTRs",
        "colab_type": "code",
        "outputId": "409acbe9-b60a-471e-d038-1d2ed5649d8d",
        "colab": {}
      },
      "source": [
        "#Creating a plot of the actual data row based on daily observations\n",
        "lines = df.recovered_p.plot.line()\n",
        "plt.title(\"Recovered with Immunity rate development per day(%)-Germany since Jan 27th,2020\")\n",
        "plt.xlabel(\"t (days)\")\n",
        "plt.ylabel(\"recovered %\");"
      ],
      "execution_count": 0,
      "outputs": [
        {
          "output_type": "display_data",
          "data": {
            "image/png": "[encoded data removed]",
            "text/plain": [
              "<Figure size 432x288 with 1 Axes>"
            ]
          },
          "metadata": {
            "tags": [],
            "needs_background": "light"
          }
        }
      ]
    },
    {
      "cell_type": "code",
      "metadata": {
        "id": "u999H96XcTRu",
        "colab_type": "code",
        "outputId": "6338a411-f927-42be-e53c-2960357b409f",
        "colab": {}
      },
      "source": [
        "X = df.Time\n",
        "X = sm.add_constant(X)"
      ],
      "execution_count": 0,
      "outputs": [
        {
          "output_type": "stream",
          "text": [
            "C:\\Users\\KarstenMeyer\\Anaconda3\\lib\\site-packages\\numpy\\core\\fromnumeric.py:2389: FutureWarning:\n",
            "\n",
            "Method .ptp is deprecated and will be removed in a future version. Use numpy.ptp instead.\n",
            "\n"
          ],
          "name": "stderr"
        }
      ]
    },
    {
      "cell_type": "code",
      "metadata": {
        "id": "o0Zbu524cTRw",
        "colab_type": "code",
        "outputId": "faee25c6-3ce7-4949-a97d-f222129e595d",
        "colab": {}
      },
      "source": [
        "y = df.logInfections\n",
        "y.head(5)"
      ],
      "execution_count": 0,
      "outputs": [
        {
          "output_type": "execute_result",
          "data": {
            "text/plain": [
              "0    0.000000\n",
              "1    1.386294\n",
              "2    1.386294\n",
              "3    1.609438\n",
              "4    1.945910\n",
              "Name: logInfections, dtype: float64"
            ]
          },
          "metadata": {
            "tags": []
          },
          "execution_count": 14
        }
      ]
    },
    {
      "cell_type": "code",
      "metadata": {
        "id": "7Ib9aCPicTRy",
        "colab_type": "code",
        "outputId": "ac48da1e-4893-4328-fa93-b1df00f479cb",
        "colab": {}
      },
      "source": [
        "mod = sm.OLS(y,X)\n",
        "res = mod.fit()\n",
        "print(res.summary())"
      ],
      "execution_count": 0,
      "outputs": [
        {
          "output_type": "stream",
          "text": [
            "                            OLS Regression Results                            \n",
            "==============================================================================\n",
            "Dep. Variable:          logInfections   R-squared:                       0.937\n",
            "Model:                            OLS   Adj. R-squared:                  0.936\n",
            "Method:                 Least Squares   F-statistic:                     1043.\n",
            "Date:                Wed, 08 Apr 2020   Prob (F-statistic):           8.68e-44\n",
            "Time:                        03:12:51   Log-Likelihood:                -95.498\n",
            "No. Observations:                  72   AIC:                             195.0\n",
            "Df Residuals:                      70   BIC:                             199.5\n",
            "Df Model:                           1                                         \n",
            "Covariance Type:            nonrobust                                         \n",
            "==============================================================================\n",
            "                 coef    std err          t      P>|t|      [0.025      0.975]\n",
            "------------------------------------------------------------------------------\n",
            "const         -0.1616      0.220     -0.734      0.466      -0.601       0.278\n",
            "Time           0.1693      0.005     32.300      0.000       0.159       0.180\n",
            "==============================================================================\n",
            "Omnibus:                        6.276   Durbin-Watson:                   0.050\n",
            "Prob(Omnibus):                  0.043   Jarque-Bera (JB):                6.356\n",
            "Skew:                          -0.693   Prob(JB):                       0.0417\n",
            "Kurtosis:                       2.557   Cond. No.                         84.9\n",
            "==============================================================================\n",
            "\n",
            "Warnings:\n",
            "[1] Standard Errors assume that the covariance matrix of the errors is correctly specified.\n"
          ],
          "name": "stdout"
        }
      ]
    },
    {
      "cell_type": "markdown",
      "metadata": {
        "id": "2zl--MFgcTR1",
        "colab_type": "text"
      },
      "source": [
        "Zu lösen sind folgende Gleichungen:\n",
        "\n",
        "3 * x0 + 1 * x1 = 9\n",
        "1 * x0 + 2 * x1 = 8\n",
        "Die Koeffizienten kommen in die entsprechenden numpy-Arrays, dann ruft man linalg.solve auf:\n",
        "\n",
        "import numpy as np\n",
        " \n",
        "a = np.array([[3,1], [1,2]])\n",
        "b = np.array([9,8])\n",
        "x = np.linalg.solve(a, b)\n",
        "print(x) # gibt [ 2.  3.]"
      ]
    },
    {
      "cell_type": "code",
      "metadata": {
        "id": "9G8azWsZcTR1",
        "colab_type": "code",
        "colab": {}
      },
      "source": [
        "#a=-0.1616 ...steht unter coef (const)\n",
        "#b=0.1693 ...steht unter coef (Time)"
      ],
      "execution_count": 0,
      "outputs": []
    },
    {
      "cell_type": "code",
      "metadata": {
        "id": "PkgaBJUmcTR5",
        "colab_type": "code",
        "outputId": "d3575fde-b247-4b92-a8ae-49679b731d01",
        "colab": {}
      },
      "source": [
        "import math   # This will import math module\n",
        "\n",
        "X_0 =math.exp(-0.1616)\n",
        "b = math.exp(0.1693)\n",
        "s = 'The value of X_0 is ' + repr(X_0) + ', and b is ' + repr(b)\n",
        "print(s)"
      ],
      "execution_count": 0,
      "outputs": [
        {
          "output_type": "stream",
          "text": [
            "The value of X_0 is 0.8507814490664177, and b is 1.1844754282563819\n"
          ],
          "name": "stdout"
        }
      ]
    },
    {
      "cell_type": "code",
      "metadata": {
        "id": "gWNwuffpcTR8",
        "colab_type": "code",
        "outputId": "15a52e33-8a57-4012-dd20-63141f8d6e61",
        "colab": {}
      },
      "source": [
        "df.tail(5)"
      ],
      "execution_count": 0,
      "outputs": [
        {
          "output_type": "execute_result",
          "data": {
            "text/html": [
              "<div>\n",
              "<style scoped>\n",
              "    .dataframe tbody tr th:only-of-type {\n",
              "        vertical-align: middle;\n",
              "    }\n",
              "\n",
              "    .dataframe tbody tr th {\n",
              "        vertical-align: top;\n",
              "    }\n",
              "\n",
              "    .dataframe thead th {\n",
              "        text-align: right;\n",
              "    }\n",
              "</style>\n",
              "<table border=\"1\" class=\"dataframe\">\n",
              "  <thead>\n",
              "    <tr style=\"text-align: right;\">\n",
              "      <th></th>\n",
              "      <th>Time</th>\n",
              "      <th>Infected</th>\n",
              "      <th>Infected_t_1</th>\n",
              "      <th>Recovered</th>\n",
              "      <th>growth_p</th>\n",
              "      <th>Dead</th>\n",
              "      <th>logInfections</th>\n",
              "      <th>Predicted_I</th>\n",
              "      <th>fatalties_p</th>\n",
              "      <th>recovered_p</th>\n",
              "    </tr>\n",
              "  </thead>\n",
              "  <tbody>\n",
              "    <tr>\n",
              "      <th>67</th>\n",
              "      <td>68</td>\n",
              "      <td>91159.0</td>\n",
              "      <td>84264.0</td>\n",
              "      <td>22981</td>\n",
              "      <td>8.182617</td>\n",
              "      <td>1275.0</td>\n",
              "      <td>11.420361</td>\n",
              "      <td>0.0</td>\n",
              "      <td>13.986551</td>\n",
              "      <td>25.209798</td>\n",
              "    </tr>\n",
              "    <tr>\n",
              "      <th>68</th>\n",
              "      <td>69</td>\n",
              "      <td>95616.0</td>\n",
              "      <td>91159.0</td>\n",
              "      <td>26144</td>\n",
              "      <td>4.889259</td>\n",
              "      <td>1427.0</td>\n",
              "      <td>11.468095</td>\n",
              "      <td>0.0</td>\n",
              "      <td>14.924280</td>\n",
              "      <td>27.342704</td>\n",
              "    </tr>\n",
              "    <tr>\n",
              "      <th>69</th>\n",
              "      <td>70</td>\n",
              "      <td>100024.0</td>\n",
              "      <td>95616.0</td>\n",
              "      <td>26469</td>\n",
              "      <td>4.610107</td>\n",
              "      <td>1576.0</td>\n",
              "      <td>11.513165</td>\n",
              "      <td>0.0</td>\n",
              "      <td>15.756219</td>\n",
              "      <td>26.462649</td>\n",
              "    </tr>\n",
              "    <tr>\n",
              "      <th>70</th>\n",
              "      <td>71</td>\n",
              "      <td>101806.0</td>\n",
              "      <td>100024.0</td>\n",
              "      <td>36081</td>\n",
              "      <td>1.781572</td>\n",
              "      <td>1680.0</td>\n",
              "      <td>11.530824</td>\n",
              "      <td>0.0</td>\n",
              "      <td>16.501974</td>\n",
              "      <td>35.440937</td>\n",
              "    </tr>\n",
              "    <tr>\n",
              "      <th>71</th>\n",
              "      <td>72</td>\n",
              "      <td>107663.0</td>\n",
              "      <td>101806.0</td>\n",
              "      <td>38287</td>\n",
              "      <td>5.753099</td>\n",
              "      <td>2016.0</td>\n",
              "      <td>11.586761</td>\n",
              "      <td>0.0</td>\n",
              "      <td>18.725096</td>\n",
              "      <td>35.561892</td>\n",
              "    </tr>\n",
              "  </tbody>\n",
              "</table>\n",
              "</div>"
            ],
            "text/plain": [
              "    Time  Infected  Infected_t_1  Recovered  growth_p    Dead  logInfections  \\\n",
              "67    68   91159.0       84264.0      22981  8.182617  1275.0      11.420361   \n",
              "68    69   95616.0       91159.0      26144  4.889259  1427.0      11.468095   \n",
              "69    70  100024.0       95616.0      26469  4.610107  1576.0      11.513165   \n",
              "70    71  101806.0      100024.0      36081  1.781572  1680.0      11.530824   \n",
              "71    72  107663.0      101806.0      38287  5.753099  2016.0      11.586761   \n",
              "\n",
              "    Predicted_I  fatalties_p  recovered_p  \n",
              "67          0.0    13.986551    25.209798  \n",
              "68          0.0    14.924280    27.342704  \n",
              "69          0.0    15.756219    26.462649  \n",
              "70          0.0    16.501974    35.440937  \n",
              "71          0.0    18.725096    35.561892  "
            ]
          },
          "metadata": {
            "tags": []
          },
          "execution_count": 18
        }
      ]
    },
    {
      "cell_type": "markdown",
      "metadata": {
        "id": "9cZ14eNdcTR-",
        "colab_type": "text"
      },
      "source": [
        "# Now we can go back to the original formula for exponential growth and fill in those values to find out the actual value for the coronavirus case:\n",
        "#x(t)= x_0 + b**t wo t die Anzahl der Tage ist.\n",
        "#in unserem Modell: an Tag 34, also am 3.4. haben wir dann die folgende Zahl von Infektionen:"
      ]
    },
    {
      "cell_type": "code",
      "metadata": {
        "id": "a-2OlU64cTR_",
        "colab_type": "code",
        "colab": {}
      },
      "source": [
        "for i in range (72,100):\n",
        "    df.Predicted_I[i] = 0.8507814490664177 + (1.1844754282563819)**i    "
      ],
      "execution_count": 0,
      "outputs": []
    },
    {
      "cell_type": "code",
      "metadata": {
        "id": "L9GDVP6kcTSB",
        "colab_type": "code",
        "outputId": "9198d382-c992-45cd-afab-38c94a2da2d9",
        "colab": {}
      },
      "source": [
        "df.Predicted_I[70] = 0.8507814490664177 + (1.1844754282563819)**70\n",
        "df.Predicted_I[70]"
      ],
      "execution_count": 0,
      "outputs": [
        {
          "output_type": "execute_result",
          "data": {
            "text/plain": [
              "140225.35236988563"
            ]
          },
          "metadata": {
            "tags": []
          },
          "execution_count": 43
        }
      ]
    },
    {
      "cell_type": "code",
      "metadata": {
        "id": "bVXELVDMcTSD",
        "colab_type": "code",
        "outputId": "917c61ce-5b0b-49f9-890a-92809b6963c0",
        "colab": {}
      },
      "source": [
        "#Creating a plot of the actual data row based on daily observations\n",
        "lines = df.Predicted_I.plot.line()\n",
        "plt.title(\"Prediction of Infected next 30 days\")\n",
        "plt.xlabel(\"t (days)\")\n",
        "plt.ylabel(\"growth (persons - absolute)\");"
      ],
      "execution_count": 0,
      "outputs": [
        {
          "output_type": "display_data",
          "data": {
            "image/png": "[encoded data removed]",
            "text/plain": [
              "<Figure size 432x288 with 1 Axes>"
            ]
          },
          "metadata": {
            "tags": [],
            "needs_background": "light"
          }
        }
      ]
    },
    {
      "cell_type": "markdown",
      "metadata": {
        "id": "RjOaigH2cTSF",
        "colab_type": "text"
      },
      "source": [
        "comparing this graph to the actuals figures shows that we have left the exponential area of wave 1. "
      ]
    },
    {
      "cell_type": "code",
      "metadata": {
        "id": "UbzT2nLFcTSH",
        "colab_type": "code",
        "outputId": "2ccf4478-6cd8-4320-89f9-449cd14d73e7",
        "colab": {}
      },
      "source": [
        "lines_all = df.plot.line()"
      ],
      "execution_count": 0,
      "outputs": [
        {
          "output_type": "display_data",
          "data": {
            "image/png": "[encoded data removed]",
            "text/plain": [
              "<Figure size 432x288 with 1 Axes>"
            ]
          },
          "metadata": {
            "tags": [],
            "needs_background": "light"
          }
        }
      ]
    },
    {
      "cell_type": "code",
      "metadata": {
        "id": "pe-js5QQcTSK",
        "colab_type": "code",
        "outputId": "4413a3e6-ae1d-4d96-fc3d-5c878b1c9b8a",
        "colab": {}
      },
      "source": [
        "lines = df.Recovered.plot.line()"
      ],
      "execution_count": 0,
      "outputs": [
        {
          "output_type": "display_data",
          "data": {
            "image/png": "[encoded data removed]",
            "text/plain": [
              "<Figure size 432x288 with 1 Axes>"
            ]
          },
          "metadata": {
            "tags": [],
            "needs_background": "light"
          }
        }
      ]
    },
    {
      "cell_type": "markdown",
      "metadata": {
        "id": "rPUR7MPwcTSM",
        "colab_type": "text"
      },
      "source": [
        "Ermittlung des Anteils der ITS Patienten basierend auf den Istzahlen bis heute sowie FC\n",
        "#Assumption: Duration from to=confirmed infection until t1=ITS is 8 days on the average\n",
        "5% of all infected need ITS treatment"
      ]
    },
    {
      "cell_type": "code",
      "metadata": {
        "id": "-OBzP7vbcTSN",
        "colab_type": "code",
        "colab": {}
      },
      "source": [
        "#Ermittlung des Bedarfs an ITS* Plätzen                                   *ITS = Intensivstation"
      ],
      "execution_count": 0,
      "outputs": []
    },
    {
      "cell_type": "code",
      "metadata": {
        "id": "RTjsHWL7cTSP",
        "colab_type": "code",
        "colab": {}
      },
      "source": [
        "#Annahme: \n",
        "# Patienten kommen im Durchschnitt nach 8 Tagen auf die ITS\n",
        "# 5% der Infizierten Patienten benötigen ITS Behandlung im Laufe der Erkrankung\n",
        "# Man bleibt im Durchschnitt 5 Tage auf er Intensivstation"
      ],
      "execution_count": 0,
      "outputs": []
    },
    {
      "cell_type": "markdown",
      "metadata": {
        "id": "CVNgeoLYcTSR",
        "colab_type": "text"
      },
      "source": [
        "# Summary: ITS Bedarf für Berlin stand 22.3.2020, basierend auf Zahlen aus der Morgenpost..."
      ]
    },
    {
      "cell_type": "code",
      "metadata": {
        "id": "ZxEqrsHVcTSR",
        "colab_type": "code",
        "colab": {}
      },
      "source": [
        "df_final = pd.read_csv('Corona_ITS_Bedarf_Forecast_20 Tage.csv')             \n",
        "#Corona_ITS_Bedarf_Forecast_20 Tage"
      ],
      "execution_count": 0,
      "outputs": []
    },
    {
      "cell_type": "code",
      "metadata": {
        "id": "7CVMwydlcTST",
        "colab_type": "code",
        "outputId": "57c4a042-85be-424d-e9cd-0d7608007444",
        "colab": {}
      },
      "source": [
        "#Creating a plot of the actual data row based on daily observations\n",
        "lines = df_final.plot.line()"
      ],
      "execution_count": 0,
      "outputs": [
        {
          "output_type": "display_data",
          "data": {
            "image/png": "[encoded data removed]",
            "text/plain": [
              "<Figure size 432x288 with 1 Axes>"
            ]
          },
          "metadata": {
            "tags": [],
            "needs_background": "light"
          }
        }
      ]
    },
    {
      "cell_type": "code",
      "metadata": {
        "id": "B1V34d0JcTSU",
        "colab_type": "code",
        "colab": {}
      },
      "source": [
        "#heute muss die \"Sättigung eingebaut werden\""
      ],
      "execution_count": 0,
      "outputs": []
    },
    {
      "cell_type": "markdown",
      "metadata": {
        "id": "2MG0BMOGcTSW",
        "colab_type": "text"
      },
      "source": [
        "The SIR epidemic model\n",
        "A simple mathematical description of the spread of a disease in a population is the so-called SIR model, which divides the (fixed) population of N individuals into three \"compartments\" which may vary as a function of time, t:\n",
        "\n",
        "S(t) are those susceptible but not yet infected with the disease; I(t) is the number of infectious individuals; R(t) are those individuals who have recovered from the disease and now have immunity to it. The SIR model describes the change in the population of each of these compartments in terms of two parameters, β and γ. β describes the effective contact rate of the disease: an infected individual comes into contact with βN other individuals per unit time (of which the fraction that are susceptible to contracting the disease is S/N). γ is the mean recovery rate: that is, 1/γ is the mean period of time during which an infected individual can pass it on.\n",
        "\n",
        "The differential equations describing this model were first derived by Kermack and McKendrick [Proc. R. Soc. A, 115, 772 (1927)]:\n",
        "\n",
        "dSdtdIdtdRdt=−βSIN,=βSIN−γI,=γI. The following Python code integrates these equations for a disease characterised by parameters β=0.2, 1/γ=10days in a population of N=1000 (perhaps 'flu in a school). The model is started with a single infected individual on day 0: I(0)=1. The plotted curves of S(t), I(t) and R(t) are styled to look a bit nicer than Matplotlib's defaults.\n"
      ]
    },
    {
      "cell_type": "code",
      "metadata": {
        "scrolled": true,
        "id": "1fbqnmOWcTSX",
        "colab_type": "code",
        "outputId": "4d8744d1-10ca-4fdf-9e98-242e1530bbb9",
        "colab": {}
      },
      "source": [
        "import numpy as np\n",
        "from scipy.integrate import odeint\n",
        "import matplotlib.pyplot as plt\n",
        "\n",
        "# Total population, N.\n",
        "N = 82790000\n",
        "# Initial number of infected and recovered individuals, I0 and R0.\n",
        "I0, R0 = 1, 0\n",
        "# Everyone else, S0, is susceptible to infection initially.\n",
        "S0 = N - I0 - R0\n",
        "# Contact rate, beta, and mean recovery rate, gamma, (in 1/days).\n",
        "beta, gamma = 0.4, 1./10\n",
        "#Social Distancing rho\n",
        "rho = 0.5\n",
        "#uc = 4.0 #unreported cases\n",
        "# A grid of time points (in days)\n",
        "t = np.linspace(0, 160, 160)\n",
        "\n",
        "# The SIR model differential equations.\n",
        "def deriv(y, t, N, beta, gamma,rho):\n",
        "    S, I, R = y\n",
        "    dSdt = -beta * S * I / N * rho\n",
        "    dIdt = (beta * S * I / N - gamma * I)*rho\n",
        "    dRdt = gamma * I*rho\n",
        "    return dSdt, dIdt, dRdt\n",
        "\n",
        "# Initial conditions vector\n",
        "y0 = S0, I0, R0\n",
        "# Integrate the SIR equations over the time grid, t.\n",
        "ret = odeint(deriv, y0, t, args=(N, beta, gamma,rho))\n",
        "S, I, R = ret.T\n",
        "\n",
        "# Plot the data on three separate curves for S(t), I(t) and R(t)\n",
        "fig = plt.figure(facecolor='w')\n",
        "\n",
        "#ax = fig.add_subplot(111, axis_bgcolor='#dddddd', axisbelow=True)\n",
        "ax = fig.add_subplot(111, axisbelow=True)\n",
        "ax.plot(t, S/82790000, 'b', alpha=0.5, lw=2, label='Susceptible')\n",
        "ax.plot(t, I/82790000, 'r', alpha=0.5, lw=2, label='Infected')\n",
        "ax.plot(t, R/82790000, 'g', alpha=0.5, lw=2, label='Recovered with immunity')\n",
        "ax.set_xlabel('Time /days')\n",
        "ax.set_ylabel('per thousand(1000s)')\n",
        "ax.set_ylim(0,1.2)\n",
        "ax.yaxis.set_tick_params(length=0)\n",
        "ax.xaxis.set_tick_params(length=0)\n",
        "ax.grid(b=True, which='major', c='w', lw=2, ls='-')\n",
        "legend = ax.legend()\n",
        "legend.get_frame().set_alpha(0.5)\n",
        "for spine in ('top', 'right', 'bottom', 'left'):\n",
        "    ax.spines[spine].set_visible(False)\n",
        "\n",
        "ax.set_facecolor(color='whitesmoke')\n",
        "plt.grid(b=True, which='minor', color='#999999', linestyle='-', alpha=0.2)    \n",
        "plt.title(\"Development of Infected, Recovered, Susceptible over time\")\n",
        "plt.show()\n",
        "#plt.title(\"Growth per day (%)\")\n",
        "#plt.xlabel(\"t (days)\")\n",
        "#plt.ylabel(\"groth (%)\");"
      ],
      "execution_count": 0,
      "outputs": [
        {
          "output_type": "display_data",
          "data": {
            "image/png": "[encoded data removed]",
            "text/plain": [
              "<Figure size 432x288 with 1 Axes>"
            ]
          },
          "metadata": {
            "tags": []
          }
        }
      ]
    },
    {
      "cell_type": "code",
      "metadata": {
        "id": "XAJQ2FMxcTSY",
        "colab_type": "code",
        "outputId": "091edb08-62fb-4edc-8a1a-c1a76e9842e8",
        "colab": {}
      },
      "source": [
        "I[64],R[64],S[64]"
      ],
      "execution_count": 0,
      "outputs": [
        {
          "output_type": "execute_result",
          "data": {
            "text/plain": [
              "(15678.42548000612, 5226.6884269982465, 82769094.88609302)"
            ]
          },
          "metadata": {
            "tags": []
          },
          "execution_count": 30
        }
      ]
    },
    {
      "cell_type": "code",
      "metadata": {
        "id": "FDq4ZU6qcTSb",
        "colab_type": "code",
        "colab": {}
      },
      "source": [
        "#Einbau des unknown cases:\n",
        "#Annahme: Faktor 4, d.h. es gibt 4 mal soviele Infektionen"
      ],
      "execution_count": 0,
      "outputs": []
    },
    {
      "cell_type": "code",
      "metadata": {
        "id": "skUN9c2TcTSd",
        "colab_type": "code",
        "colab": {}
      },
      "source": [
        "I_uc = I*1.4\n",
        "R_uc = R*1.4\n",
        "S_uc = 82790000 - I_uc - R_uc"
      ],
      "execution_count": 0,
      "outputs": []
    },
    {
      "cell_type": "code",
      "metadata": {
        "id": "aVZgk7qOcTSf",
        "colab_type": "code",
        "outputId": "6e86a872-99f4-4d03-fd6b-4704ed308e78",
        "colab": {}
      },
      "source": [
        "#Manuelle Eingabe des aktuellen Tages (i)\n",
        "i=64\n",
        "#Werte ohne \"Unknown cases\" \n",
        "I[i],R[i],S[i]\n"
      ],
      "execution_count": 0,
      "outputs": [
        {
          "output_type": "execute_result",
          "data": {
            "text/plain": [
              "(15678.42548000612, 5226.6884269982465, 82769094.88609302)"
            ]
          },
          "metadata": {
            "tags": []
          },
          "execution_count": 33
        }
      ]
    },
    {
      "cell_type": "code",
      "metadata": {
        "id": "-7_AInuTcTSh",
        "colab_type": "code",
        "outputId": "5f23c5a8-1dd8-49bb-9f4b-5d8fd3ff6851",
        "colab": {}
      },
      "source": [
        "#Manuelle Eingabe des aktuellen Tages (i)\n",
        "i=64\n",
        "#Werte ohne \"Unknown cases\" \n",
        "I_uc[i], R_uc[i],S_uc[i]"
      ],
      "execution_count": 0,
      "outputs": [
        {
          "output_type": "execute_result",
          "data": {
            "text/plain": [
              "(21949.795672008568, 7317.363797797545, 82760732.84053019)"
            ]
          },
          "metadata": {
            "tags": []
          },
          "execution_count": 34
        }
      ]
    },
    {
      "cell_type": "code",
      "metadata": {
        "id": "LgLA-7uYcTSj",
        "colab_type": "code",
        "outputId": "d4bf77f6-78ee-41fe-8edd-9ff09a98e620",
        "colab": {}
      },
      "source": [
        "# Plot the data on three separate curves for S(t), I(t) and R(t)\n",
        "fig = plt.figure(facecolor='w')\n",
        "\n",
        "#ax = fig.add_subplot(111, axis_bgcolor='#dddddd', axisbelow=True)\n",
        "ax = fig.add_subplot(111, axisbelow=True)\n",
        "ax.plot(t, S_uc/82790000, 'b', alpha=0.5, lw=2, label='Susceptible')\n",
        "ax.plot(t, I_uc/82790000, 'r', alpha=0.5, lw=2, label='Infected')\n",
        "ax.plot(t, R_uc/82790000, 'g', alpha=0.5, lw=2, label='Recovered with immunity')\n",
        "ax.set_xlabel('Time /days')\n",
        "ax.set_ylabel('Number (1000s)')\n",
        "ax.set_ylim(0,1.2)\n",
        "ax.yaxis.set_tick_params(length=0)\n",
        "ax.xaxis.set_tick_params(length=0)\n",
        "ax.grid(b=True, which='major', c='w', lw=2, ls='-')\n",
        "legend = ax.legend()\n",
        "legend.get_frame().set_alpha(0.5)\n",
        "for spine in ('top', 'right', 'bottom', 'left'):\n",
        "    ax.spines[spine].set_visible(False)\n",
        "\n",
        "ax.set_facecolor(color='whitesmoke')\n",
        "plt.grid(b=True, which='minor', color='#999999', linestyle='-', alpha=0.2)  \n",
        "plt.title(\"Development of Infected, Recovered, Susceptible over time incl. unknown cases\")\n",
        "plt.show()"
      ],
      "execution_count": 0,
      "outputs": [
        {
          "output_type": "display_data",
          "data": {
            "image/png": "[encoded data removed]",
            "text/plain": [
              "<Figure size 432x288 with 1 Axes>"
            ]
          },
          "metadata": {
            "tags": []
          }
        }
      ]
    },
    {
      "cell_type": "code",
      "metadata": {
        "id": "uqY5wGyacTSl",
        "colab_type": "code",
        "outputId": "acba5dfb-0732-46ae-ab89-07c4064b7680",
        "colab": {}
      },
      "source": [
        "for i in range (4,120):\n",
        "    growth = (I_uc[i]/I_uc[i-1]*100)-100\n",
        "    s = ('The growth factor on day ',i, 'is ', growth)\n",
        "    #s = growth\n",
        "    print(s)    "
      ],
      "execution_count": 0,
      "outputs": [
        {
          "output_type": "stream",
          "text": [
            "('The growth factor on day ', 4, 'is ', 16.29308298553751)\n",
            "('The growth factor on day ', 5, 'is ', 16.293086525955985)\n",
            "('The growth factor on day ', 6, 'is ', 16.2930804996346)\n",
            "('The growth factor on day ', 7, 'is ', 16.293082848892908)\n",
            "('The growth factor on day ', 8, 'is ', 16.29308207317031)\n",
            "('The growth factor on day ', 9, 'is ', 16.29308201979927)\n",
            "('The growth factor on day ', 10, 'is ', 16.293081803707693)\n",
            "('The growth factor on day ', 11, 'is ', 16.293082047009165)\n",
            "('The growth factor on day ', 12, 'is ', 16.293080683875516)\n",
            "('The growth factor on day ', 13, 'is ', 16.29308040118474)\n",
            "('The growth factor on day ', 14, 'is ', 16.293080335076922)\n",
            "('The growth factor on day ', 15, 'is ', 16.29307983002552)\n",
            "('The growth factor on day ', 16, 'is ', 16.29307930573391)\n",
            "('The growth factor on day ', 17, 'is ', 16.29307866342839)\n",
            "('The growth factor on day ', 18, 'is ', 16.29307805280476)\n",
            "('The growth factor on day ', 19, 'is ', 16.29307729747542)\n",
            "('The growth factor on day ', 20, 'is ', 16.293076235180948)\n",
            "('The growth factor on day ', 21, 'is ', 16.293075083789233)\n",
            "('The growth factor on day ', 22, 'is ', 16.29307374195716)\n",
            "('The growth factor on day ', 23, 'is ', 16.29307215447011)\n",
            "('The growth factor on day ', 24, 'is ', 16.293070332913516)\n",
            "('The growth factor on day ', 25, 'is ', 16.29306820352761)\n",
            "('The growth factor on day ', 26, 'is ', 16.2930657243475)\n",
            "('The growth factor on day ', 27, 'is ', 16.29306284378616)\n",
            "('The growth factor on day ', 28, 'is ', 16.293059475251525)\n",
            "('The growth factor on day ', 29, 'is ', 16.293055558706612)\n",
            "('The growth factor on day ', 30, 'is ', 16.293051010798905)\n",
            "('The growth factor on day ', 31, 'is ', 16.293045726545174)\n",
            "('The growth factor on day ', 32, 'is ', 16.29303958529161)\n",
            "('The growth factor on day ', 33, 'is ', 16.293032446255793)\n",
            "('The growth factor on day ', 34, 'is ', 16.29302414590603)\n",
            "('The growth factor on day ', 35, 'is ', 16.29301449434233)\n",
            "('The growth factor on day ', 36, 'is ', 16.293003270795552)\n",
            "('The growth factor on day ', 37, 'is ', 16.292990218612346)\n",
            "('The growth factor on day ', 38, 'is ', 16.29297503947309)\n",
            "('The growth factor on day ', 39, 'is ', 16.292957386525273)\n",
            "('The growth factor on day ', 40, 'is ', 16.292936856484005)\n",
            "('The growth factor on day ', 41, 'is ', 16.29291298044251)\n",
            "('The growth factor on day ', 42, 'is ', 16.29288521315398)\n",
            "('The growth factor on day ', 43, 'is ', 16.292852917700174)\n",
            "('The growth factor on day ', 44, 'is ', 16.29281534477684)\n",
            "('The growth factor on day ', 45, 'is ', 16.29277165432768)\n",
            "('The growth factor on day ', 46, 'is ', 16.29272085170399)\n",
            "('The growth factor on day ', 47, 'is ', 16.292661776852796)\n",
            "('The growth factor on day ', 48, 'is ', 16.292593080925542)\n",
            "('The growth factor on day ', 49, 'is ', 16.29251319551264)\n",
            "('The growth factor on day ', 50, 'is ', 16.292420296873303)\n",
            "('The growth factor on day ', 51, 'is ', 16.292312264339188)\n",
            "('The growth factor on day ', 52, 'is ', 16.292186631952106)\n",
            "('The growth factor on day ', 53, 'is ', 16.292040532231127)\n",
            "('The growth factor on day ', 54, 'is ', 16.291870630791493)\n",
            "('The growth factor on day ', 55, 'is ', 16.2916730503309)\n",
            "('The growth factor on day ', 56, 'is ', 16.291443282254676)\n",
            "('The growth factor on day ', 57, 'is ', 16.291176083936662)\n",
            "('The growth factor on day ', 58, 'is ', 16.290865359286073)\n",
            "('The growth factor on day ', 59, 'is ', 16.290504013978506)\n",
            "('The growth factor on day ', 60, 'is ', 16.290083799728876)\n",
            "('The growth factor on day ', 61, 'is ', 16.289595150004033)\n",
            "('The growth factor on day ', 62, 'is ', 16.289026922480886)\n",
            "('The growth factor on day ', 63, 'is ', 16.288366161635807)\n",
            "('The growth factor on day ', 64, 'is ', 16.287597805307755)\n",
            "('The growth factor on day ', 65, 'is ', 16.28670434286974)\n",
            "('The growth factor on day ', 66, 'is ', 16.285665418208524)\n",
            "('The growth factor on day ', 67, 'is ', 16.2844573686955)\n",
            "('The growth factor on day ', 68, 'is ', 16.283052689953337)\n",
            "('The growth factor on day ', 69, 'is ', 16.281419414660007)\n",
            "('The growth factor on day ', 70, 'is ', 16.279520391803473)\n",
            "('The growth factor on day ', 71, 'is ', 16.27731245076866)\n",
            "('The growth factor on day ', 72, 'is ', 16.27474543226755)\n",
            "('The growth factor on day ', 73, 'is ', 16.271761065498964)\n",
            "('The growth factor on day ', 74, 'is ', 16.268291667907334)\n",
            "('The growth factor on day ', 75, 'is ', 16.264258633353194)\n",
            "('The growth factor on day ', 76, 'is ', 16.25957071066493)\n",
            "('The growth factor on day ', 77, 'is ', 16.25412198954541)\n",
            "('The growth factor on day ', 78, 'is ', 16.24778955724541)\n",
            "('The growth factor on day ', 79, 'is ', 16.24043071716568)\n",
            "('The growth factor on day ', 80, 'is ', 16.231880383860513)\n",
            "('The growth factor on day ', 81, 'is ', 16.221947110571122)\n",
            "('The growth factor on day ', 82, 'is ', 16.210408880713928)\n",
            "('The growth factor on day ', 83, 'is ', 16.19700888931075)\n",
            "('The growth factor on day ', 84, 'is ', 16.181450232110535)\n",
            "('The growth factor on day ', 85, 'is ', 16.163389705787836)\n",
            "('The growth factor on day ', 86, 'is ', 16.142431274550134)\n",
            "('The growth factor on day ', 87, 'is ', 16.118118319406747)\n",
            "('The growth factor on day ', 88, 'is ', 16.08992517507191)\n",
            "('The growth factor on day ', 89, 'is ', 16.05724771311685)\n",
            "('The growth factor on day ', 90, 'is ', 16.019393027406508)\n",
            "('The growth factor on day ', 91, 'is ', 15.975568106817391)\n",
            "('The growth factor on day ', 92, 'is ', 15.924867969722484)\n",
            "('The growth factor on day ', 93, 'is ', 15.866262176835377)\n",
            "('The growth factor on day ', 94, 'is ', 15.798583584687904)\n",
            "('The growth factor on day ', 95, 'is ', 15.72051418754512)\n",
            "('The growth factor on day ', 96, 'is ', 15.63057355737638)\n",
            "('The growth factor on day ', 97, 'is ', 15.527109170329993)\n",
            "('The growth factor on day ', 98, 'is ', 15.408288673793692)\n",
            "('The growth factor on day ', 99, 'is ', 15.272097673136685)\n",
            "('The growth factor on day ', 100, 'is ', 15.1163435100148)\n",
            "('The growth factor on day ', 101, 'is ', 14.938667942823301)\n",
            "('The growth factor on day ', 102, 'is ', 14.736571481186317)\n",
            "('The growth factor on day ', 103, 'is ', 14.507452025453915)\n",
            "('The growth factor on day ', 104, 'is ', 14.248660990128641)\n",
            "('The growth factor on day ', 105, 'is ', 13.95757945610056)\n",
            "('The growth factor on day ', 106, 'is ', 13.63171618703116)\n",
            "('The growth factor on day ', 107, 'is ', 13.268827927606168)\n",
            "('The growth factor on day ', 108, 'is ', 12.867060148798174)\n",
            "('The growth factor on day ', 109, 'is ', 12.425103499371048)\n",
            "('The growth factor on day ', 110, 'is ', 11.942357665854004)\n",
            "('The growth factor on day ', 111, 'is ', 11.419090458669643)\n",
            "('The growth factor on day ', 112, 'is ', 10.856576958532656)\n",
            "('The growth factor on day ', 113, 'is ', 10.257200650585062)\n",
            "('The growth factor on day ', 114, 'is ', 9.624499134709865)\n",
            "('The growth factor on day ', 115, 'is ', 8.963139696790165)\n",
            "('The growth factor on day ', 116, 'is ', 8.278815615214157)\n",
            "('The growth factor on day ', 117, 'is ', 7.578063214024766)\n",
            "('The growth factor on day ', 118, 'is ', 6.868009522527132)\n",
            "('The growth factor on day ', 119, 'is ', 6.156070255830713)\n"
          ],
          "name": "stdout"
        }
      ]
    },
    {
      "cell_type": "code",
      "metadata": {
        "id": "uT__tOJhcTSn",
        "colab_type": "code",
        "outputId": "f852e2ab-63f7-4823-bac6-9597a6ebff87",
        "colab": {}
      },
      "source": [
        "for i in range (40,120):\n",
        "    s = ('The value of I_uc',i, 'is ', I_uc[i])\n",
        "    print(s)"
      ],
      "execution_count": 0,
      "outputs": [
        {
          "output_type": "stream",
          "text": [
            "('The value of I_uc', 40, 'is ', 586.5155903089508)\n",
            "('The value of I_uc', 41, 'is ', 682.0760650547169)\n",
            "('The value of I_uc', 42, 'is ', 793.2059354004793)\n",
            "('The value of I_uc', 43, 'is ', 922.4418117897474)\n",
            "('The value of I_uc', 44, 'is ', 1072.733552847665)\n",
            "('The value of I_uc', 45, 'is ', 1247.5115810724915)\n",
            "('The value of I_uc', 46, 'is ', 1450.7651605693113)\n",
            "('The value of I_uc', 47, 'is ', 1687.1334213572848)\n",
            "('The value of I_uc', 48, 'is ', 1962.0112044313241)\n",
            "('The value of I_uc', 49, 'is ', 2281.672138810734)\n",
            "('The value of I_uc', 50, 'is ', 2653.411753462437)\n",
            "('The value of I_uc', 51, 'is ', 3085.7138819952147)\n",
            "('The value of I_uc', 52, 'is ', 3588.4441465779296)\n",
            "('The value of I_uc', 53, 'is ', 4173.074921414881)\n",
            "('The value of I_uc', 54, 'is ', 4852.946888937797)\n",
            "('The value of I_uc', 55, 'is ', 5643.573129389748)\n",
            "('The value of I_uc', 56, 'is ', 6562.992644856844)\n",
            "('The value of I_uc', 57, 'is ', 7632.181333006285)\n",
            "('The value of I_uc', 58, 'is ', 8875.529717942904)\n",
            "('The value of I_uc', 59, 'is ', 10321.398242906249)\n",
            "('The value of I_uc', 60, 'is ', 12002.76266597942)\n",
            "('The value of I_uc', 61, 'is ', 13957.964111083298)\n",
            "('The value of I_uc', 62, 'is ', 16231.580642967878)\n",
            "('The value of I_uc', 63, 'is ', 18875.439931915684)\n",
            "('The value of I_uc', 64, 'is ', 21949.795672008568)\n",
            "('The value of I_uc', 65, 'is ', 25524.693996972623)\n",
            "('The value of I_uc', 66, 'is ', 29681.56026034114)\n",
            "('The value of I_uc', 67, 'is ', 34515.04128730006)\n",
            "('The value of I_uc', 68, 'is ', 40135.143646070275)\n",
            "('The value of I_uc', 69, 'is ', 46669.71471576325)\n",
            "('The value of I_uc', 70, 'is ', 54267.320439712435)\n",
            "('The value of I_uc', 71, 'is ', 63100.58174634427)\n",
            "('The value of I_uc', 72, 'is ', 73370.04079184169)\n",
            "('The value of I_uc', 73, 'is ', 85308.6385231493)\n",
            "('The value of I_uc', 74, 'is ', 99186.89665601599)\n",
            "('The value of I_uc', 75, 'is ', 115318.91005854718)\n",
            "('The value of I_uc', 76, 'is ', 134069.26978228474)\n",
            "('The value of I_uc', 77, 'is ', 155861.05244319004)\n",
            "('The value of I_uc', 78, 'is ', 181185.02824586746)\n",
            "('The value of I_uc', 79, 'is ', 210610.2572280146)\n",
            "('The value of I_uc', 80, 'is ', 244796.2622574069)\n",
            "('The value of I_uc', 81, 'is ', 284506.98244945845)\n",
            "('The value of I_uc', 82, 'is ', 330626.72759869666)\n",
            "('The value of I_uc', 83, 'is ', 384178.36805829476)\n",
            "('The value of I_uc', 84, 'is ', 446343.99948818213)\n",
            "('The value of I_uc', 85, 'is ', 518488.3195538566)\n",
            "('The value of I_uc', 86, 'is ', 602184.9402044078)\n",
            "('The value of I_uc', 87, 'is ', 699245.821368203)\n",
            "('The value of I_uc', 88, 'is ', 811753.9508161638)\n",
            "('The value of I_uc', 89, 'is ', 942099.293519728)\n",
            "('The value of I_uc', 90, 'is ', 1093017.8820570733)\n",
            "('The value of I_uc', 91, 'is ', 1267633.6982247941)\n",
            "('The value of I_uc', 92, 'is ', 1469502.6910068027)\n",
            "('The value of I_uc', 93, 'is ', 1702657.840657593)\n",
            "('The value of I_uc', 94, 'is ', 1971653.662775125)\n",
            "('The value of I_uc', 95, 'is ', 2281607.756560941)\n",
            "('The value of I_uc', 96, 'is ', 2638236.135241004)\n",
            "('The value of I_uc', 97, 'is ', 3047877.94013097)\n",
            "('The value of I_uc', 98, 'is ', 3517503.7715712264)\n",
            "('The value of I_uc', 99, 'is ', 4054700.3832218507)\n",
            "('The value of I_uc', 100, 'is ', 4667622.821451552)\n",
            "('The value of I_uc', 101, 'is ', 5364903.49557164)\n",
            "('The value of I_uc', 102, 'is ', 6155506.334093219)\n",
            "('The value of I_uc', 103, 'is ', 7048513.46243557)\n",
            "('The value of I_uc', 104, 'is ', 8052832.250541592)\n",
            "('The value of I_uc', 105, 'is ', 9176812.710377427)\n",
            "('The value of I_uc', 106, 'is ', 10427769.77407148)\n",
            "('The value of I_uc', 107, 'is ', 11811412.602079952)\n",
            "('The value of I_uc', 108, 'is ', 13331194.166012306)\n",
            "('The value of I_uc', 109, 'is ', 14987608.83884145)\n",
            "('The value of I_uc', 110, 'is ', 16777482.691935044)\n",
            "('The value of I_uc', 111, 'is ', 18693318.61721475)\n",
            "('The value of I_uc', 112, 'is ', 20722773.138996385)\n",
            "('The value of I_uc', 113, 'is ', 22848349.560228787)\n",
            "('The value of I_uc', 114, 'is ', 25047388.76594849)\n",
            "('The value of I_uc', 115, 'is ', 27292421.211438578)\n",
            "('The value of I_uc', 116, 'is ', 29551910.440461174)\n",
            "('The value of I_uc', 117, 'is ', 31791372.89459131)\n",
            "('The value of I_uc', 118, 'is ', 33974807.41233395)\n",
            "('The value of I_uc', 119, 'is ', 36066320.42592041)\n"
          ],
          "name": "stdout"
        }
      ]
    },
    {
      "cell_type": "code",
      "metadata": {
        "id": "jIzVOptZcTSq",
        "colab_type": "code",
        "colab": {}
      },
      "source": [
        ""
      ],
      "execution_count": 0,
      "outputs": []
    }
  ]
}